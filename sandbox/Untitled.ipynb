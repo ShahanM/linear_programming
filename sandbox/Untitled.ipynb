{
 "cells": [
  {
   "cell_type": "code",
   "execution_count": 1,
   "metadata": {
    "collapsed": true
   },
   "outputs": [],
   "source": [
    "import numpy as np"
   ]
  },
  {
   "cell_type": "code",
   "execution_count": 48,
   "metadata": {},
   "outputs": [],
   "source": [
    "#M = np.asarray(np.asmatrix('2 1; 1 2'))\n",
    "#q = np.asarray([-5, -6], dtype=np.float64)\n",
    "\n",
    "M = np.asarray(np.asmatrix('0.4313 0.5902; 0.5902 1.5934'))\n",
    "q = np.asarray([-0.6787, -0.7577], dtype=np.float64)"
   ]
  },
  {
   "cell_type": "code",
   "execution_count": 75,
   "metadata": {},
   "outputs": [],
   "source": [
    "def lcpipm(M, x, s, mu, epsilon, tau, theta, n):\n",
    "    i = 0\n",
    "    j = 0\n",
    "        \n",
    "    bm = np.zeros(shape=(n + n, n + n))\n",
    "    \n",
    "    bm[:n, :n] = -M\n",
    "    I = np.eye(n)\n",
    "    bm[:n, n:] = I\n",
    "    \n",
    "    #display(bm)\n",
    "    \n",
    "    rhs = np.zeros(shape=(n + n)).T\n",
    "    \n",
    "    while mu*n >= epsilon and i < 10:\n",
    "        i += 1\n",
    "        mu = (1 - theta)*mu;\n",
    "        v = np.sqrt((x.T*s)/mu)\n",
    "        p = kernel_func(v)\n",
    "        while p > tau and j < 50:\n",
    "            j += 1\n",
    "            X = np.diag(x)\n",
    "            S = np.diag(s)\n",
    "            \n",
    "            dv = kernel_func_dv(v)\n",
    "            \n",
    "            bm[n:, :n] = S\n",
    "            bm[n:, n:] = X\n",
    "        \n",
    "            rhs[n:] = -mu*v*dv\n",
    "                        \n",
    "            xs = np.linalg.solve(bm, rhs)\n",
    "            #display(xs)\n",
    "            delta_x = xs[:n]\n",
    "            #display(delta_x)\n",
    "            delta_s = xs[n:]\n",
    "            #display(delta_s)\n",
    "            \n",
    "            alpha_x, alpha_s, alpha_k = get_steplength(x, s, delta_x, delta_s, 0.85, n)\n",
    "            \n",
    "            x += alpha_x*delta_x\n",
    "            s += alpha_s*delta_s\n",
    "            \n",
    "            v = np.sqrt((x.T*s)/mu)\n",
    "            p = kernel_func(v)    \n",
    "            \n",
    "    return x, s, i*j\n",
    "\n",
    "\n",
    "def get_steplength(x, s, delta_x, delta_s, eta, n):\n",
    "    alpha_x = 1.0\n",
    "    alpha_s = 1.0\n",
    "    for i in range(n):\n",
    "        if delta_x[i] < 0:\n",
    "            # get alpha primal\n",
    "            alpha_x = min(alpha_x, -x[i] / delta_x[i])\n",
    "        if delta_s[i] < 0:\n",
    "            # get alpha dual\n",
    "            alpha_s = min(alpha_s, -s[i] / delta_s[i])\n",
    "    # choose smallest alpha\n",
    "    alpha_x = min(1.0, eta * alpha_x)\n",
    "    alpha_s = min(1.0, eta * alpha_s)\n",
    "    alpha_k = min(1.0, eta * min(alpha_s, alpha_x))\n",
    "\n",
    "    return alpha_x, alpha_s, alpha_k\n",
    "\n",
    "\n",
    "def kernel_func(v):\n",
    "    return sum(((np.power(v, 2) - 1)/2)+ 2*np.log(1 + np.reciprocal(v)) - 2*np.log(2))\n",
    "\n",
    "def kernel_func_dv(v):\n",
    "    return sum((v - (2/(np.power(v, 2) + v))))"
   ]
  },
  {
   "cell_type": "code",
   "execution_count": 74,
   "metadata": {},
   "outputs": [
    {
     "data": {
      "text/plain": [
       "array([0.6555, 0.1712])"
      ]
     },
     "metadata": {},
     "output_type": "display_data"
    },
    {
     "data": {
      "text/plain": [
       "array([1.32578598, 0.49223118])"
      ]
     },
     "metadata": {},
     "output_type": "display_data"
    },
    {
     "data": {
      "text/plain": [
       "(array([4.31468017e+00, 2.13163061e-03]), array([1.96570417, 1.65761167]), 500)"
      ]
     },
     "execution_count": 74,
     "metadata": {},
     "output_type": "execute_result"
    }
   ],
   "source": [
    "epsilon = 10e-6\n",
    "tau = 2\n",
    "theta = 0.5\n",
    "\n",
    "x0 = np.asarray([0.7431, 0.3922], dtype=np.float64)\n",
    "#s0 = np.dot(M, x0) + q\n",
    "s0 = np.asarray([0.6555, 0.1712], dtype=np.float64)\n",
    "\n",
    "display(s0)\n",
    "\n",
    "n = M.shape[0]\n",
    "\n",
    "mu0 = np.dot(x0.T, s0)/n\n",
    "v0 = np.sqrt(np.multiply(x0, s0)/mu0)\n",
    "display(v0)\n",
    "\n",
    "lcpipm(M=M, x=x0, s=s0, mu=mu0, epsilon=epsilon, tau=tau, theta=theta, n=n)"
   ]
  },
  {
   "cell_type": "code",
   "execution_count": null,
   "metadata": {},
   "outputs": [],
   "source": [
    "test_v = np.asarray([3, 3], dtype=np.float64)\n",
    "display(test_v)\n",
    "display(np.power(test_v, 2))\n",
    "display((np.power(test_v, 2) - 1)/2)\n",
    "display(1 + np.reciprocal(test_v))\n",
    "display(np.log(1 + np.reciprocal(test_v)))\n",
    "\n",
    "kernel_func(test_v)"
   ]
  },
  {
   "cell_type": "code",
   "execution_count": null,
   "metadata": {
    "collapsed": true
   },
   "outputs": [],
   "source": [
    "x0 = np.asarray([3, 3], dtype=np.float64)\n",
    "s0 = np.dot(M, x0) + q"
   ]
  }
 ],
 "metadata": {
  "kernelspec": {
   "display_name": "Python 3",
   "language": "python",
   "name": "python3"
  },
  "language_info": {
   "codemirror_mode": {
    "name": "ipython",
    "version": 3
   },
   "file_extension": ".py",
   "mimetype": "text/x-python",
   "name": "python",
   "nbconvert_exporter": "python",
   "pygments_lexer": "ipython3",
   "version": "3.6.2"
  },
  "toc": {
   "base_numbering": 1,
   "nav_menu": {},
   "number_sections": false,
   "sideBar": false,
   "skip_h1_title": false,
   "title_cell": "Table of Contents",
   "title_sidebar": "Contents",
   "toc_cell": false,
   "toc_position": {},
   "toc_section_display": false,
   "toc_window_display": false
  }
 },
 "nbformat": 4,
 "nbformat_minor": 2
}
