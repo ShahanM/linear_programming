{
 "cells": [
  {
   "cell_type": "code",
   "execution_count": 1,
   "metadata": {},
   "outputs": [],
   "source": [
    "import numpy as np"
   ]
  },
  {
   "cell_type": "code",
   "execution_count": 45,
   "metadata": {},
   "outputs": [],
   "source": [
    "M = np.asarray(np.asmatrix('0 0 3 1;0 0 1 3; 1 3 0 0;3 1 0 0'))\n",
    "q = np.asarray([-1, -1, -1, -1], dtype=np.float64)\n",
    "\n",
    "#M = np.asarray(np.asmatrix('0.2100 0.1797; 0.1797 0.8866'))\n",
    "#q = np.asarray([-0.1524, -0.4427], dtype=np.float64)"
   ]
  },
  {
   "cell_type": "code",
   "execution_count": 125,
   "metadata": {},
   "outputs": [],
   "source": [
    "def lcpipm(M, x, s, epsilon, tau, theta):\n",
    "    i = 0\n",
    "    j = 0\n",
    "    \n",
    "    n = M.shape[0]\n",
    "\n",
    "    mu = np.dot(x.T, s)/n\n",
    "    v = np.sqrt((x.T*s)/mu)\n",
    "    \n",
    "    display(kernel_func(v))\n",
    "        \n",
    "    bm = np.zeros(shape=(n + n, n + n))\n",
    "    \n",
    "    bm[:n, :n] = -M\n",
    "    bm[:n, n:] = np.eye(n)\n",
    "\n",
    "    rhs = np.zeros(shape=(n + n)).T\n",
    "    \n",
    "    while mu*n >= epsilon:\n",
    "        i += 1\n",
    "        mu = (1 - theta)*mu;\n",
    "        v = np.sqrt((x.T*s)/mu)\n",
    "        #p = kernel_func(v)\n",
    "        #while p > tau and j < 50:\n",
    "        #j += 1\n",
    "        bm[n:, :n] = np.diag(s)\n",
    "        bm[n:, n:] = np.diag(x)\n",
    "\n",
    "        rhs[n:] = -mu*v*kernel_func_dv(v)\n",
    "\n",
    "        xs = np.linalg.solve(bm, rhs)\n",
    "        delta_x = xs[:n]\n",
    "        delta_s = xs[n:]\n",
    "\n",
    "        alpha_x, alpha_s, alpha_k = get_steplength(x, s, delta_x, delta_s, 0.85, n)\n",
    "\n",
    "        x += alpha_k*delta_x\n",
    "        s += alpha_k*delta_s\n",
    "\n",
    "        #v = np.sqrt((x.T*s)/mu)\n",
    "        #p = kernel_func(v)    \n",
    "            \n",
    "    return x, s, i\n",
    "\n",
    "\n",
    "def get_steplength(x, s, delta_x, delta_s, eta, n):\n",
    "    alpha_x = 1.0\n",
    "    alpha_s = 1.0\n",
    "    for i in range(n):\n",
    "        if delta_x[i] < 0:\n",
    "            # get alpha primal\n",
    "            alpha_x = min(alpha_x, -x[i] / delta_x[i])\n",
    "        if delta_s[i] < 0:\n",
    "            # get alpha dual\n",
    "            alpha_s = min(alpha_s, -s[i] / delta_s[i])\n",
    "    # choose smallest alpha\n",
    "    alpha_x = min(1.0, eta * alpha_x)\n",
    "    alpha_s = min(1.0, eta * alpha_s)\n",
    "    alpha_k = min(1.0, eta * min(alpha_s, alpha_x))\n",
    "\n",
    "    return alpha_x, alpha_s, alpha_k\n",
    "\n",
    "\n",
    "def kernel_func(v):\n",
    "    return sum(((np.power(v, 2) - 1)/2)+ 2*np.log(1 + np.reciprocal(v)) - 2*np.log(2))\n",
    "\n",
    "def kernel_func_dv(v):\n",
    "    return sum((v - (2/(np.power(v, 2) + v))))"
   ]
  },
  {
   "cell_type": "code",
   "execution_count": 132,
   "metadata": {},
   "outputs": [
    {
     "data": {
      "text/plain": [
       "0.0"
      ]
     },
     "metadata": {},
     "output_type": "display_data"
    },
    {
     "data": {
      "text/plain": [
       "(array([0.25000517, 0.25000517, 0.25000517, 0.25000517]),\n",
       " array([2.06872256e-05, 2.06872247e-05, 2.06872287e-05, 2.06872216e-05]),\n",
       " 48)"
      ]
     },
     "metadata": {},
     "output_type": "display_data"
    }
   ],
   "source": [
    "epsilon = 10e-6\n",
    "tau = 3\n",
    "theta = 0.3\n",
    "\n",
    "x0 = np.asarray([4, 4, 4, 4], dtype=np.float64)\n",
    "s0 = np.dot(M, x0) + q\n",
    "#s0 = np.asarray([0.0782, 0.4427], dtype=np.float64)\n",
    "\n",
    "results = lcpipm(M=M, x=x0, s=s0, epsilon=epsilon, tau=tau, theta=theta)\n",
    "display(results)\n",
    "# display('x : [{:.6f}, {:.6f}]'.format(results[0][0], results[0][1]))\n",
    "# display('s : [{:.6f}, {:.6f}]'.format(results[1][0], results[1][1]))\n",
    "# display('Total Iterations : {}'.format(results[2]))"
   ]
  },
  {
   "cell_type": "code",
   "execution_count": null,
   "metadata": {},
   "outputs": [],
   "source": [
    "test_v = np.asarray([3, 3], dtype=np.float64)\n",
    "display(test_v)\n",
    "display(np.power(test_v, 2))\n",
    "display((np.power(test_v, 2) - 1)/2)\n",
    "display(1 + np.reciprocal(test_v))\n",
    "display(np.log(1 + np.reciprocal(test_v)))\n",
    "\n",
    "kernel_func(test_v)"
   ]
  },
  {
   "cell_type": "code",
   "execution_count": null,
   "metadata": {
    "collapsed": true
   },
   "outputs": [],
   "source": [
    "x0 = np.asarray([3, 3], dtype=np.float64)\n",
    "s0 = np.dot(M, x0) + q"
   ]
  }
 ],
 "metadata": {
  "kernelspec": {
   "display_name": "Python 3",
   "language": "python",
   "name": "python3"
  },
  "language_info": {
   "codemirror_mode": {
    "name": "ipython",
    "version": 3
   },
   "file_extension": ".py",
   "mimetype": "text/x-python",
   "name": "python",
   "nbconvert_exporter": "python",
   "pygments_lexer": "ipython3",
   "version": "3.7.3"
  },
  "toc": {
   "base_numbering": 1,
   "nav_menu": {},
   "number_sections": false,
   "sideBar": false,
   "skip_h1_title": false,
   "title_cell": "Table of Contents",
   "title_sidebar": "Contents",
   "toc_cell": false,
   "toc_position": {},
   "toc_section_display": false,
   "toc_window_display": false
  }
 },
 "nbformat": 4,
 "nbformat_minor": 2
}
